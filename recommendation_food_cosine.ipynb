{
 "cells": [
  {
   "cell_type": "code",
   "execution_count": 20,
   "metadata": {
    "collapsed": true,
    "ExecuteTime": {
     "end_time": "2024-01-11T07:23:32.626502Z",
     "start_time": "2024-01-11T07:23:32.624517Z"
    }
   },
   "outputs": [],
   "source": [
    "import provider\n",
    "import pandas\n",
    "import numpy as np"
   ]
  },
  {
   "cell_type": "code",
   "execution_count": 2,
   "outputs": [],
   "source": [
    "mongo_client = provider.init_client(username=\"mongo\" , password=\"12345678\")"
   ],
   "metadata": {
    "collapsed": false,
    "ExecuteTime": {
     "end_time": "2024-01-11T03:40:43.703347Z",
     "start_time": "2024-01-11T03:40:43.692017Z"
    }
   }
  },
  {
   "cell_type": "code",
   "execution_count": 3,
   "outputs": [],
   "source": [
    "db = mongo_client[\"food_project\"]\n",
    "food_user_col = db[\"food_user\"]\n",
    "food_ingredients = db[\"food_ingredients\"]"
   ],
   "metadata": {
    "collapsed": false,
    "ExecuteTime": {
     "end_time": "2024-01-11T03:46:47.503597Z",
     "start_time": "2024-01-11T03:46:47.501400Z"
    }
   }
  },
  {
   "cell_type": "code",
   "execution_count": 8,
   "outputs": [
    {
     "data": {
      "text/plain": "                     food_id                                        name\n0   659e26b24927ce6caf1b5be4    Grilled chicken with eggplant and tomato\n1   659e26b24927ce6caf1b5be5                           Eggplant Parmesan\n2   659e26b24927ce6caf1b5be6                   Tomato and onion omelette\n3   659e26b24927ce6caf1b5be7                   Carrot and onion stir-fry\n4   659e26b24927ce6caf1b5be8                  Eggplant and beef stir-fry\n..                       ...                                         ...\n95  659e26b24927ce6caf1b5c43                     Pork and eggplant curry\n96  659e26b24927ce6caf1b5c44                       Potato and gourd hash\n97  659e26b24927ce6caf1b5c45                  Chicken and tomato skewers\n98  659e26b24927ce6caf1b5c46            Radish and spring onion omelette\n99  659e26b24927ce6caf1b5c47  Grilled gourd with beef and purple cabbage\n\n[100 rows x 2 columns]",
      "text/html": "<div>\n<style scoped>\n    .dataframe tbody tr th:only-of-type {\n        vertical-align: middle;\n    }\n\n    .dataframe tbody tr th {\n        vertical-align: top;\n    }\n\n    .dataframe thead th {\n        text-align: right;\n    }\n</style>\n<table border=\"1\" class=\"dataframe\">\n  <thead>\n    <tr style=\"text-align: right;\">\n      <th></th>\n      <th>food_id</th>\n      <th>name</th>\n    </tr>\n  </thead>\n  <tbody>\n    <tr>\n      <th>0</th>\n      <td>659e26b24927ce6caf1b5be4</td>\n      <td>Grilled chicken with eggplant and tomato</td>\n    </tr>\n    <tr>\n      <th>1</th>\n      <td>659e26b24927ce6caf1b5be5</td>\n      <td>Eggplant Parmesan</td>\n    </tr>\n    <tr>\n      <th>2</th>\n      <td>659e26b24927ce6caf1b5be6</td>\n      <td>Tomato and onion omelette</td>\n    </tr>\n    <tr>\n      <th>3</th>\n      <td>659e26b24927ce6caf1b5be7</td>\n      <td>Carrot and onion stir-fry</td>\n    </tr>\n    <tr>\n      <th>4</th>\n      <td>659e26b24927ce6caf1b5be8</td>\n      <td>Eggplant and beef stir-fry</td>\n    </tr>\n    <tr>\n      <th>...</th>\n      <td>...</td>\n      <td>...</td>\n    </tr>\n    <tr>\n      <th>95</th>\n      <td>659e26b24927ce6caf1b5c43</td>\n      <td>Pork and eggplant curry</td>\n    </tr>\n    <tr>\n      <th>96</th>\n      <td>659e26b24927ce6caf1b5c44</td>\n      <td>Potato and gourd hash</td>\n    </tr>\n    <tr>\n      <th>97</th>\n      <td>659e26b24927ce6caf1b5c45</td>\n      <td>Chicken and tomato skewers</td>\n    </tr>\n    <tr>\n      <th>98</th>\n      <td>659e26b24927ce6caf1b5c46</td>\n      <td>Radish and spring onion omelette</td>\n    </tr>\n    <tr>\n      <th>99</th>\n      <td>659e26b24927ce6caf1b5c47</td>\n      <td>Grilled gourd with beef and purple cabbage</td>\n    </tr>\n  </tbody>\n</table>\n<p>100 rows × 2 columns</p>\n</div>"
     },
     "execution_count": 8,
     "metadata": {},
     "output_type": "execute_result"
    }
   ],
   "source": [
    "data_food_cursor = food_ingredients.find({})\n",
    "data_food = []\n",
    "\n",
    "for e in data_food_cursor:\n",
    "    data_food.append({\n",
    "        \"food_id\":str(e[\"_id\"]),\n",
    "        \"name\":e[\"name\"]\n",
    "    })\n",
    "df_food = pandas.DataFrame(data_food)\n",
    "df_food"
   ],
   "metadata": {
    "collapsed": false,
    "ExecuteTime": {
     "end_time": "2024-01-11T03:56:45.445592Z",
     "start_time": "2024-01-11T03:56:45.419298Z"
    }
   }
  },
  {
   "cell_type": "code",
   "execution_count": 10,
   "outputs": [
    {
     "data": {
      "text/plain": "                       food_id  user_id  total_click\n0     659e26b24927ce6caf1b5c31        1            4\n1     659e26b24927ce6caf1b5bf8        1           33\n2     659e26b24927ce6caf1b5c09        1           67\n3     659e26b24927ce6caf1b5c0e        1           22\n4     659e26b24927ce6caf1b5c20        1           35\n...                        ...      ...          ...\n1490  659e26b24927ce6caf1b5bf7       20           94\n1491  659e26b24927ce6caf1b5c31       20           66\n1492  659e26b24927ce6caf1b5c28       20           21\n1493  659e26b24927ce6caf1b5be4       20           38\n1494  659e26b24927ce6caf1b5c3f       20           77\n\n[1495 rows x 3 columns]",
      "text/html": "<div>\n<style scoped>\n    .dataframe tbody tr th:only-of-type {\n        vertical-align: middle;\n    }\n\n    .dataframe tbody tr th {\n        vertical-align: top;\n    }\n\n    .dataframe thead th {\n        text-align: right;\n    }\n</style>\n<table border=\"1\" class=\"dataframe\">\n  <thead>\n    <tr style=\"text-align: right;\">\n      <th></th>\n      <th>food_id</th>\n      <th>user_id</th>\n      <th>total_click</th>\n    </tr>\n  </thead>\n  <tbody>\n    <tr>\n      <th>0</th>\n      <td>659e26b24927ce6caf1b5c31</td>\n      <td>1</td>\n      <td>4</td>\n    </tr>\n    <tr>\n      <th>1</th>\n      <td>659e26b24927ce6caf1b5bf8</td>\n      <td>1</td>\n      <td>33</td>\n    </tr>\n    <tr>\n      <th>2</th>\n      <td>659e26b24927ce6caf1b5c09</td>\n      <td>1</td>\n      <td>67</td>\n    </tr>\n    <tr>\n      <th>3</th>\n      <td>659e26b24927ce6caf1b5c0e</td>\n      <td>1</td>\n      <td>22</td>\n    </tr>\n    <tr>\n      <th>4</th>\n      <td>659e26b24927ce6caf1b5c20</td>\n      <td>1</td>\n      <td>35</td>\n    </tr>\n    <tr>\n      <th>...</th>\n      <td>...</td>\n      <td>...</td>\n      <td>...</td>\n    </tr>\n    <tr>\n      <th>1490</th>\n      <td>659e26b24927ce6caf1b5bf7</td>\n      <td>20</td>\n      <td>94</td>\n    </tr>\n    <tr>\n      <th>1491</th>\n      <td>659e26b24927ce6caf1b5c31</td>\n      <td>20</td>\n      <td>66</td>\n    </tr>\n    <tr>\n      <th>1492</th>\n      <td>659e26b24927ce6caf1b5c28</td>\n      <td>20</td>\n      <td>21</td>\n    </tr>\n    <tr>\n      <th>1493</th>\n      <td>659e26b24927ce6caf1b5be4</td>\n      <td>20</td>\n      <td>38</td>\n    </tr>\n    <tr>\n      <th>1494</th>\n      <td>659e26b24927ce6caf1b5c3f</td>\n      <td>20</td>\n      <td>77</td>\n    </tr>\n  </tbody>\n</table>\n<p>1495 rows × 3 columns</p>\n</div>"
     },
     "execution_count": 10,
     "metadata": {},
     "output_type": "execute_result"
    }
   ],
   "source": [
    "data_user_cursor = food_user_col.find({})\n",
    "data_user = []\n",
    "\n",
    "for e in data_user_cursor:\n",
    "    data_user.append({\n",
    "        \"food_id\": str(e[\"food_id\"]),\n",
    "        \"user_id\":e[\"user_id\"],\n",
    "        \"total_click\": e[\"total_click\"]\n",
    "    })\n",
    "df_food_user = pandas.DataFrame(data_user)\n",
    "df_food_user"
   ],
   "metadata": {
    "collapsed": false,
    "ExecuteTime": {
     "end_time": "2024-01-11T04:27:23.432949Z",
     "start_time": "2024-01-11T04:27:23.416477Z"
    }
   }
  },
  {
   "cell_type": "code",
   "execution_count": 11,
   "outputs": [
    {
     "data": {
      "text/plain": "                       food_id                                        name  \\\n0     659e26b24927ce6caf1b5be4    Grilled chicken with eggplant and tomato   \n1     659e26b24927ce6caf1b5be4    Grilled chicken with eggplant and tomato   \n2     659e26b24927ce6caf1b5be4    Grilled chicken with eggplant and tomato   \n3     659e26b24927ce6caf1b5be4    Grilled chicken with eggplant and tomato   \n4     659e26b24927ce6caf1b5be4    Grilled chicken with eggplant and tomato   \n...                        ...                                         ...   \n1490  659e26b24927ce6caf1b5c47  Grilled gourd with beef and purple cabbage   \n1491  659e26b24927ce6caf1b5c47  Grilled gourd with beef and purple cabbage   \n1492  659e26b24927ce6caf1b5c47  Grilled gourd with beef and purple cabbage   \n1493  659e26b24927ce6caf1b5c47  Grilled gourd with beef and purple cabbage   \n1494  659e26b24927ce6caf1b5c47  Grilled gourd with beef and purple cabbage   \n\n      user_id  total_click  \n0           1           41  \n1           3            2  \n2           7           39  \n3           7            2  \n4           5            1  \n...       ...          ...  \n1490       13           45  \n1491       14            8  \n1492       16           62  \n1493       17           45  \n1494       20           26  \n\n[1495 rows x 4 columns]",
      "text/html": "<div>\n<style scoped>\n    .dataframe tbody tr th:only-of-type {\n        vertical-align: middle;\n    }\n\n    .dataframe tbody tr th {\n        vertical-align: top;\n    }\n\n    .dataframe thead th {\n        text-align: right;\n    }\n</style>\n<table border=\"1\" class=\"dataframe\">\n  <thead>\n    <tr style=\"text-align: right;\">\n      <th></th>\n      <th>food_id</th>\n      <th>name</th>\n      <th>user_id</th>\n      <th>total_click</th>\n    </tr>\n  </thead>\n  <tbody>\n    <tr>\n      <th>0</th>\n      <td>659e26b24927ce6caf1b5be4</td>\n      <td>Grilled chicken with eggplant and tomato</td>\n      <td>1</td>\n      <td>41</td>\n    </tr>\n    <tr>\n      <th>1</th>\n      <td>659e26b24927ce6caf1b5be4</td>\n      <td>Grilled chicken with eggplant and tomato</td>\n      <td>3</td>\n      <td>2</td>\n    </tr>\n    <tr>\n      <th>2</th>\n      <td>659e26b24927ce6caf1b5be4</td>\n      <td>Grilled chicken with eggplant and tomato</td>\n      <td>7</td>\n      <td>39</td>\n    </tr>\n    <tr>\n      <th>3</th>\n      <td>659e26b24927ce6caf1b5be4</td>\n      <td>Grilled chicken with eggplant and tomato</td>\n      <td>7</td>\n      <td>2</td>\n    </tr>\n    <tr>\n      <th>4</th>\n      <td>659e26b24927ce6caf1b5be4</td>\n      <td>Grilled chicken with eggplant and tomato</td>\n      <td>5</td>\n      <td>1</td>\n    </tr>\n    <tr>\n      <th>...</th>\n      <td>...</td>\n      <td>...</td>\n      <td>...</td>\n      <td>...</td>\n    </tr>\n    <tr>\n      <th>1490</th>\n      <td>659e26b24927ce6caf1b5c47</td>\n      <td>Grilled gourd with beef and purple cabbage</td>\n      <td>13</td>\n      <td>45</td>\n    </tr>\n    <tr>\n      <th>1491</th>\n      <td>659e26b24927ce6caf1b5c47</td>\n      <td>Grilled gourd with beef and purple cabbage</td>\n      <td>14</td>\n      <td>8</td>\n    </tr>\n    <tr>\n      <th>1492</th>\n      <td>659e26b24927ce6caf1b5c47</td>\n      <td>Grilled gourd with beef and purple cabbage</td>\n      <td>16</td>\n      <td>62</td>\n    </tr>\n    <tr>\n      <th>1493</th>\n      <td>659e26b24927ce6caf1b5c47</td>\n      <td>Grilled gourd with beef and purple cabbage</td>\n      <td>17</td>\n      <td>45</td>\n    </tr>\n    <tr>\n      <th>1494</th>\n      <td>659e26b24927ce6caf1b5c47</td>\n      <td>Grilled gourd with beef and purple cabbage</td>\n      <td>20</td>\n      <td>26</td>\n    </tr>\n  </tbody>\n</table>\n<p>1495 rows × 4 columns</p>\n</div>"
     },
     "execution_count": 11,
     "metadata": {},
     "output_type": "execute_result"
    }
   ],
   "source": [
    "df_master = pandas.merge(df_food,df_food_user)\n",
    "df_master"
   ],
   "metadata": {
    "collapsed": false,
    "ExecuteTime": {
     "end_time": "2024-01-11T04:47:25.497538Z",
     "start_time": "2024-01-11T04:47:25.484694Z"
    }
   }
  },
  {
   "cell_type": "code",
   "execution_count": 29,
   "outputs": [
    {
     "data": {
      "text/plain": "name     Beef and eggplant stew  Beef and gourd curry  Beef and gourd kebabs  \\\nuser_id                                                                        \n1                          44.0                  86.0              77.000000   \n2                           NaN                  78.0              64.833333   \n3                          40.4                  42.5              47.600000   \n4                          10.0                  48.0              54.333333   \n5                          80.0                   NaN              17.500000   \n6                          49.5                   NaN              65.000000   \n7                          57.0                   NaN                    NaN   \n8                           NaN                  60.0              79.000000   \n9                          52.0                  61.0                    NaN   \n10                          NaN                   NaN              53.000000   \n11                          NaN                   NaN              25.000000   \n12                         31.0                  30.0              36.500000   \n13                          NaN                   NaN                    NaN   \n14                          NaN                  34.0              83.000000   \n15                         41.0                   NaN              62.000000   \n16                         32.0                  30.0                    NaN   \n17                         42.0                   NaN                    NaN   \n18                         14.0                   NaN                    NaN   \n19                         68.0                  98.0                    NaN   \n20                          NaN                   NaN              79.000000   \n\nname     Beef and onion kebabs  Beef and onion stir-fry  \\\nuser_id                                                   \n1                         22.0                      NaN   \n2                         52.0                     62.0   \n3                          NaN                     23.0   \n4                          NaN                     78.0   \n5                         56.0                     93.0   \n6                         76.0                     54.0   \n7                          NaN                      NaN   \n8                          NaN                      NaN   \n9                         12.0                     56.0   \n10                        81.0                      NaN   \n11                        35.0                      2.0   \n12                        60.0                      NaN   \n13                         3.0                     64.0   \n14                        79.0                     59.5   \n15                         NaN                     60.0   \n16                         NaN                      NaN   \n17                         NaN                      NaN   \n18                         NaN                      NaN   \n19                        46.0                     71.0   \n20                         NaN                     25.0   \n\nname     Beef and potato curry  Beef and potato kabobs  Beef and potato stew  \\\nuser_id                                                                        \n1                        31.00                    76.5             72.000000   \n2                        58.75                     NaN             59.333333   \n3                        38.75                     NaN             48.333333   \n4                        51.00                    17.0             62.000000   \n5                        60.00                    16.0                   NaN   \n6                        68.00                     NaN                   NaN   \n7                        97.00                    51.0                   NaN   \n8                        46.00                     9.0                   NaN   \n9                          NaN                    42.0             30.000000   \n10                       43.00                     NaN                   NaN   \n11                       37.00                    26.0             23.000000   \n12                       16.00                    28.0                   NaN   \n13                         NaN                     NaN             48.000000   \n14                       19.50                     NaN                   NaN   \n15                         NaN                     NaN             68.000000   \n16                         NaN                     NaN                   NaN   \n17                         NaN                     NaN             27.000000   \n18                         NaN                    46.0             20.000000   \n19                         NaN                    50.0             59.500000   \n20                         NaN                     NaN                   NaN   \n\nname     Beef and radish curry  Beef and radish stir-fry  ...  \\\nuser_id                                                   ...   \n1                         32.0                 52.000000  ...   \n2                         45.0                 86.000000  ...   \n3                         38.0                 76.333333  ...   \n4                          NaN                 12.000000  ...   \n5                          NaN                       NaN  ...   \n6                         81.5                       NaN  ...   \n7                         17.0                       NaN  ...   \n8                          NaN                 27.333333  ...   \n9                          NaN                 67.000000  ...   \n10                        57.5                       NaN  ...   \n11                         NaN                 37.000000  ...   \n12                        81.0                 24.000000  ...   \n13                         NaN                       NaN  ...   \n14                         NaN                       NaN  ...   \n15                         NaN                 65.000000  ...   \n16                         NaN                       NaN  ...   \n17                         NaN                       NaN  ...   \n18                         NaN                       NaN  ...   \n19                         NaN                 63.666667  ...   \n20                         NaN                       NaN  ...   \n\nname     Tomato and carrot pasta sauce  Tomato and carrot soup  \\\nuser_id                                                          \n1                                 41.5               75.000000   \n2                                 29.0               54.000000   \n3                                 98.0                     NaN   \n4                                 76.0               30.500000   \n5                                 14.0               88.000000   \n6                                 98.0               54.000000   \n7                                 79.0               36.500000   \n8                                 54.0                     NaN   \n9                                  NaN               43.000000   \n10                                 NaN               43.000000   \n11                                 NaN               83.000000   \n12                                 NaN                     NaN   \n13                                51.5               25.000000   \n14                                55.0               20.500000   \n15                                 NaN                     NaN   \n16                                 NaN               59.000000   \n17                                 NaN                     NaN   \n18                                 NaN                     NaN   \n19                                 NaN               81.333333   \n20                                11.0                     NaN   \n\nname     Tomato and onion omelette  Tomato and onion pasta sauce  \\\nuser_id                                                            \n1                        64.000000                           NaN   \n2                        55.500000                           NaN   \n3                        61.666667                          58.0   \n4                              NaN                          40.0   \n5                        17.500000                           NaN   \n6                              NaN                           NaN   \n7                              NaN                          69.0   \n8                              NaN                          20.0   \n9                              NaN                           NaN   \n10                             NaN                           NaN   \n11                       44.000000                          94.0   \n12                             NaN                          34.5   \n13                             NaN                           NaN   \n14                       54.000000                          75.0   \n15                       47.000000                          20.5   \n16                             NaN                           NaN   \n17                             NaN                           NaN   \n18                             NaN                           NaN   \n19                       68.000000                          94.0   \n20                             NaN                           NaN   \n\nname     Tomato and onion pizza  Tomato and onion quiche  \\\nuser_id                                                    \n1                           NaN                80.000000   \n2                           NaN                24.000000   \n3                     40.500000                56.000000   \n4                     16.000000                12.000000   \n5                           NaN                25.000000   \n6                     47.000000                34.000000   \n7                           NaN                83.000000   \n8                     22.333333                86.000000   \n9                     80.000000                      NaN   \n10                          NaN                      NaN   \n11                    19.000000                      NaN   \n12                          NaN                      NaN   \n13                    65.000000                44.500000   \n14                    88.000000                83.000000   \n15                    84.500000                49.333333   \n16                          NaN                38.000000   \n17                          NaN                      NaN   \n18                          NaN                      NaN   \n19                    36.500000                91.000000   \n20                    48.000000                42.000000   \n\nname     Tomato and onion salad  Tomato and onion tart  \\\nuser_id                                                  \n1                           5.0                   41.5   \n2                           NaN                   61.0   \n3                           NaN                   78.0   \n4                           NaN                    6.0   \n5                           NaN                    NaN   \n6                           NaN                   92.0   \n7                           NaN                    NaN   \n8                           NaN                   39.0   \n9                           NaN                   38.0   \n10                         70.0                    NaN   \n11                          NaN                   96.0   \n12                         31.0                   60.0   \n13                          NaN                    NaN   \n14                          NaN                    NaN   \n15                          NaN                    NaN   \n16                         39.5                    NaN   \n17                          NaN                    NaN   \n18                          NaN                    NaN   \n19                          NaN                   49.5   \n20                          NaN                    NaN   \n\nname     Tomato and potato soup  Tomato and radish pasta sauce  \nuser_id                                                         \n1                           1.0                       3.000000  \n2                          56.0                      77.000000  \n3                           NaN                            NaN  \n4                          96.0                     100.000000  \n5                          36.0                      50.500000  \n6                           NaN                      64.333333  \n7                          73.0                            NaN  \n8                          53.0                            NaN  \n9                           NaN                            NaN  \n10                          NaN                            NaN  \n11                         68.0                      55.000000  \n12                          NaN                      78.000000  \n13                         58.0                      27.000000  \n14                          NaN                            NaN  \n15                         70.0                            NaN  \n16                          NaN                            NaN  \n17                          NaN                            NaN  \n18                          NaN                      40.000000  \n19                          NaN                      79.500000  \n20                          1.0                            NaN  \n\n[20 rows x 98 columns]",
      "text/html": "<div>\n<style scoped>\n    .dataframe tbody tr th:only-of-type {\n        vertical-align: middle;\n    }\n\n    .dataframe tbody tr th {\n        vertical-align: top;\n    }\n\n    .dataframe thead th {\n        text-align: right;\n    }\n</style>\n<table border=\"1\" class=\"dataframe\">\n  <thead>\n    <tr style=\"text-align: right;\">\n      <th>name</th>\n      <th>Beef and eggplant stew</th>\n      <th>Beef and gourd curry</th>\n      <th>Beef and gourd kebabs</th>\n      <th>Beef and onion kebabs</th>\n      <th>Beef and onion stir-fry</th>\n      <th>Beef and potato curry</th>\n      <th>Beef and potato kabobs</th>\n      <th>Beef and potato stew</th>\n      <th>Beef and radish curry</th>\n      <th>Beef and radish stir-fry</th>\n      <th>...</th>\n      <th>Tomato and carrot pasta sauce</th>\n      <th>Tomato and carrot soup</th>\n      <th>Tomato and onion omelette</th>\n      <th>Tomato and onion pasta sauce</th>\n      <th>Tomato and onion pizza</th>\n      <th>Tomato and onion quiche</th>\n      <th>Tomato and onion salad</th>\n      <th>Tomato and onion tart</th>\n      <th>Tomato and potato soup</th>\n      <th>Tomato and radish pasta sauce</th>\n    </tr>\n    <tr>\n      <th>user_id</th>\n      <th></th>\n      <th></th>\n      <th></th>\n      <th></th>\n      <th></th>\n      <th></th>\n      <th></th>\n      <th></th>\n      <th></th>\n      <th></th>\n      <th></th>\n      <th></th>\n      <th></th>\n      <th></th>\n      <th></th>\n      <th></th>\n      <th></th>\n      <th></th>\n      <th></th>\n      <th></th>\n      <th></th>\n    </tr>\n  </thead>\n  <tbody>\n    <tr>\n      <th>1</th>\n      <td>44.0</td>\n      <td>86.0</td>\n      <td>77.000000</td>\n      <td>22.0</td>\n      <td>NaN</td>\n      <td>31.00</td>\n      <td>76.5</td>\n      <td>72.000000</td>\n      <td>32.0</td>\n      <td>52.000000</td>\n      <td>...</td>\n      <td>41.5</td>\n      <td>75.000000</td>\n      <td>64.000000</td>\n      <td>NaN</td>\n      <td>NaN</td>\n      <td>80.000000</td>\n      <td>5.0</td>\n      <td>41.5</td>\n      <td>1.0</td>\n      <td>3.000000</td>\n    </tr>\n    <tr>\n      <th>2</th>\n      <td>NaN</td>\n      <td>78.0</td>\n      <td>64.833333</td>\n      <td>52.0</td>\n      <td>62.0</td>\n      <td>58.75</td>\n      <td>NaN</td>\n      <td>59.333333</td>\n      <td>45.0</td>\n      <td>86.000000</td>\n      <td>...</td>\n      <td>29.0</td>\n      <td>54.000000</td>\n      <td>55.500000</td>\n      <td>NaN</td>\n      <td>NaN</td>\n      <td>24.000000</td>\n      <td>NaN</td>\n      <td>61.0</td>\n      <td>56.0</td>\n      <td>77.000000</td>\n    </tr>\n    <tr>\n      <th>3</th>\n      <td>40.4</td>\n      <td>42.5</td>\n      <td>47.600000</td>\n      <td>NaN</td>\n      <td>23.0</td>\n      <td>38.75</td>\n      <td>NaN</td>\n      <td>48.333333</td>\n      <td>38.0</td>\n      <td>76.333333</td>\n      <td>...</td>\n      <td>98.0</td>\n      <td>NaN</td>\n      <td>61.666667</td>\n      <td>58.0</td>\n      <td>40.500000</td>\n      <td>56.000000</td>\n      <td>NaN</td>\n      <td>78.0</td>\n      <td>NaN</td>\n      <td>NaN</td>\n    </tr>\n    <tr>\n      <th>4</th>\n      <td>10.0</td>\n      <td>48.0</td>\n      <td>54.333333</td>\n      <td>NaN</td>\n      <td>78.0</td>\n      <td>51.00</td>\n      <td>17.0</td>\n      <td>62.000000</td>\n      <td>NaN</td>\n      <td>12.000000</td>\n      <td>...</td>\n      <td>76.0</td>\n      <td>30.500000</td>\n      <td>NaN</td>\n      <td>40.0</td>\n      <td>16.000000</td>\n      <td>12.000000</td>\n      <td>NaN</td>\n      <td>6.0</td>\n      <td>96.0</td>\n      <td>100.000000</td>\n    </tr>\n    <tr>\n      <th>5</th>\n      <td>80.0</td>\n      <td>NaN</td>\n      <td>17.500000</td>\n      <td>56.0</td>\n      <td>93.0</td>\n      <td>60.00</td>\n      <td>16.0</td>\n      <td>NaN</td>\n      <td>NaN</td>\n      <td>NaN</td>\n      <td>...</td>\n      <td>14.0</td>\n      <td>88.000000</td>\n      <td>17.500000</td>\n      <td>NaN</td>\n      <td>NaN</td>\n      <td>25.000000</td>\n      <td>NaN</td>\n      <td>NaN</td>\n      <td>36.0</td>\n      <td>50.500000</td>\n    </tr>\n    <tr>\n      <th>6</th>\n      <td>49.5</td>\n      <td>NaN</td>\n      <td>65.000000</td>\n      <td>76.0</td>\n      <td>54.0</td>\n      <td>68.00</td>\n      <td>NaN</td>\n      <td>NaN</td>\n      <td>81.5</td>\n      <td>NaN</td>\n      <td>...</td>\n      <td>98.0</td>\n      <td>54.000000</td>\n      <td>NaN</td>\n      <td>NaN</td>\n      <td>47.000000</td>\n      <td>34.000000</td>\n      <td>NaN</td>\n      <td>92.0</td>\n      <td>NaN</td>\n      <td>64.333333</td>\n    </tr>\n    <tr>\n      <th>7</th>\n      <td>57.0</td>\n      <td>NaN</td>\n      <td>NaN</td>\n      <td>NaN</td>\n      <td>NaN</td>\n      <td>97.00</td>\n      <td>51.0</td>\n      <td>NaN</td>\n      <td>17.0</td>\n      <td>NaN</td>\n      <td>...</td>\n      <td>79.0</td>\n      <td>36.500000</td>\n      <td>NaN</td>\n      <td>69.0</td>\n      <td>NaN</td>\n      <td>83.000000</td>\n      <td>NaN</td>\n      <td>NaN</td>\n      <td>73.0</td>\n      <td>NaN</td>\n    </tr>\n    <tr>\n      <th>8</th>\n      <td>NaN</td>\n      <td>60.0</td>\n      <td>79.000000</td>\n      <td>NaN</td>\n      <td>NaN</td>\n      <td>46.00</td>\n      <td>9.0</td>\n      <td>NaN</td>\n      <td>NaN</td>\n      <td>27.333333</td>\n      <td>...</td>\n      <td>54.0</td>\n      <td>NaN</td>\n      <td>NaN</td>\n      <td>20.0</td>\n      <td>22.333333</td>\n      <td>86.000000</td>\n      <td>NaN</td>\n      <td>39.0</td>\n      <td>53.0</td>\n      <td>NaN</td>\n    </tr>\n    <tr>\n      <th>9</th>\n      <td>52.0</td>\n      <td>61.0</td>\n      <td>NaN</td>\n      <td>12.0</td>\n      <td>56.0</td>\n      <td>NaN</td>\n      <td>42.0</td>\n      <td>30.000000</td>\n      <td>NaN</td>\n      <td>67.000000</td>\n      <td>...</td>\n      <td>NaN</td>\n      <td>43.000000</td>\n      <td>NaN</td>\n      <td>NaN</td>\n      <td>80.000000</td>\n      <td>NaN</td>\n      <td>NaN</td>\n      <td>38.0</td>\n      <td>NaN</td>\n      <td>NaN</td>\n    </tr>\n    <tr>\n      <th>10</th>\n      <td>NaN</td>\n      <td>NaN</td>\n      <td>53.000000</td>\n      <td>81.0</td>\n      <td>NaN</td>\n      <td>43.00</td>\n      <td>NaN</td>\n      <td>NaN</td>\n      <td>57.5</td>\n      <td>NaN</td>\n      <td>...</td>\n      <td>NaN</td>\n      <td>43.000000</td>\n      <td>NaN</td>\n      <td>NaN</td>\n      <td>NaN</td>\n      <td>NaN</td>\n      <td>70.0</td>\n      <td>NaN</td>\n      <td>NaN</td>\n      <td>NaN</td>\n    </tr>\n    <tr>\n      <th>11</th>\n      <td>NaN</td>\n      <td>NaN</td>\n      <td>25.000000</td>\n      <td>35.0</td>\n      <td>2.0</td>\n      <td>37.00</td>\n      <td>26.0</td>\n      <td>23.000000</td>\n      <td>NaN</td>\n      <td>37.000000</td>\n      <td>...</td>\n      <td>NaN</td>\n      <td>83.000000</td>\n      <td>44.000000</td>\n      <td>94.0</td>\n      <td>19.000000</td>\n      <td>NaN</td>\n      <td>NaN</td>\n      <td>96.0</td>\n      <td>68.0</td>\n      <td>55.000000</td>\n    </tr>\n    <tr>\n      <th>12</th>\n      <td>31.0</td>\n      <td>30.0</td>\n      <td>36.500000</td>\n      <td>60.0</td>\n      <td>NaN</td>\n      <td>16.00</td>\n      <td>28.0</td>\n      <td>NaN</td>\n      <td>81.0</td>\n      <td>24.000000</td>\n      <td>...</td>\n      <td>NaN</td>\n      <td>NaN</td>\n      <td>NaN</td>\n      <td>34.5</td>\n      <td>NaN</td>\n      <td>NaN</td>\n      <td>31.0</td>\n      <td>60.0</td>\n      <td>NaN</td>\n      <td>78.000000</td>\n    </tr>\n    <tr>\n      <th>13</th>\n      <td>NaN</td>\n      <td>NaN</td>\n      <td>NaN</td>\n      <td>3.0</td>\n      <td>64.0</td>\n      <td>NaN</td>\n      <td>NaN</td>\n      <td>48.000000</td>\n      <td>NaN</td>\n      <td>NaN</td>\n      <td>...</td>\n      <td>51.5</td>\n      <td>25.000000</td>\n      <td>NaN</td>\n      <td>NaN</td>\n      <td>65.000000</td>\n      <td>44.500000</td>\n      <td>NaN</td>\n      <td>NaN</td>\n      <td>58.0</td>\n      <td>27.000000</td>\n    </tr>\n    <tr>\n      <th>14</th>\n      <td>NaN</td>\n      <td>34.0</td>\n      <td>83.000000</td>\n      <td>79.0</td>\n      <td>59.5</td>\n      <td>19.50</td>\n      <td>NaN</td>\n      <td>NaN</td>\n      <td>NaN</td>\n      <td>NaN</td>\n      <td>...</td>\n      <td>55.0</td>\n      <td>20.500000</td>\n      <td>54.000000</td>\n      <td>75.0</td>\n      <td>88.000000</td>\n      <td>83.000000</td>\n      <td>NaN</td>\n      <td>NaN</td>\n      <td>NaN</td>\n      <td>NaN</td>\n    </tr>\n    <tr>\n      <th>15</th>\n      <td>41.0</td>\n      <td>NaN</td>\n      <td>62.000000</td>\n      <td>NaN</td>\n      <td>60.0</td>\n      <td>NaN</td>\n      <td>NaN</td>\n      <td>68.000000</td>\n      <td>NaN</td>\n      <td>65.000000</td>\n      <td>...</td>\n      <td>NaN</td>\n      <td>NaN</td>\n      <td>47.000000</td>\n      <td>20.5</td>\n      <td>84.500000</td>\n      <td>49.333333</td>\n      <td>NaN</td>\n      <td>NaN</td>\n      <td>70.0</td>\n      <td>NaN</td>\n    </tr>\n    <tr>\n      <th>16</th>\n      <td>32.0</td>\n      <td>30.0</td>\n      <td>NaN</td>\n      <td>NaN</td>\n      <td>NaN</td>\n      <td>NaN</td>\n      <td>NaN</td>\n      <td>NaN</td>\n      <td>NaN</td>\n      <td>NaN</td>\n      <td>...</td>\n      <td>NaN</td>\n      <td>59.000000</td>\n      <td>NaN</td>\n      <td>NaN</td>\n      <td>NaN</td>\n      <td>38.000000</td>\n      <td>39.5</td>\n      <td>NaN</td>\n      <td>NaN</td>\n      <td>NaN</td>\n    </tr>\n    <tr>\n      <th>17</th>\n      <td>42.0</td>\n      <td>NaN</td>\n      <td>NaN</td>\n      <td>NaN</td>\n      <td>NaN</td>\n      <td>NaN</td>\n      <td>NaN</td>\n      <td>27.000000</td>\n      <td>NaN</td>\n      <td>NaN</td>\n      <td>...</td>\n      <td>NaN</td>\n      <td>NaN</td>\n      <td>NaN</td>\n      <td>NaN</td>\n      <td>NaN</td>\n      <td>NaN</td>\n      <td>NaN</td>\n      <td>NaN</td>\n      <td>NaN</td>\n      <td>NaN</td>\n    </tr>\n    <tr>\n      <th>18</th>\n      <td>14.0</td>\n      <td>NaN</td>\n      <td>NaN</td>\n      <td>NaN</td>\n      <td>NaN</td>\n      <td>NaN</td>\n      <td>46.0</td>\n      <td>20.000000</td>\n      <td>NaN</td>\n      <td>NaN</td>\n      <td>...</td>\n      <td>NaN</td>\n      <td>NaN</td>\n      <td>NaN</td>\n      <td>NaN</td>\n      <td>NaN</td>\n      <td>NaN</td>\n      <td>NaN</td>\n      <td>NaN</td>\n      <td>NaN</td>\n      <td>40.000000</td>\n    </tr>\n    <tr>\n      <th>19</th>\n      <td>68.0</td>\n      <td>98.0</td>\n      <td>NaN</td>\n      <td>46.0</td>\n      <td>71.0</td>\n      <td>NaN</td>\n      <td>50.0</td>\n      <td>59.500000</td>\n      <td>NaN</td>\n      <td>63.666667</td>\n      <td>...</td>\n      <td>NaN</td>\n      <td>81.333333</td>\n      <td>68.000000</td>\n      <td>94.0</td>\n      <td>36.500000</td>\n      <td>91.000000</td>\n      <td>NaN</td>\n      <td>49.5</td>\n      <td>NaN</td>\n      <td>79.500000</td>\n    </tr>\n    <tr>\n      <th>20</th>\n      <td>NaN</td>\n      <td>NaN</td>\n      <td>79.000000</td>\n      <td>NaN</td>\n      <td>25.0</td>\n      <td>NaN</td>\n      <td>NaN</td>\n      <td>NaN</td>\n      <td>NaN</td>\n      <td>NaN</td>\n      <td>...</td>\n      <td>11.0</td>\n      <td>NaN</td>\n      <td>NaN</td>\n      <td>NaN</td>\n      <td>48.000000</td>\n      <td>42.000000</td>\n      <td>NaN</td>\n      <td>NaN</td>\n      <td>1.0</td>\n      <td>NaN</td>\n    </tr>\n  </tbody>\n</table>\n<p>20 rows × 98 columns</p>\n</div>"
     },
     "execution_count": 29,
     "metadata": {},
     "output_type": "execute_result"
    }
   ],
   "source": [
    "df_master_pivot = df_master.pivot_table(index=[\"user_id\"] , columns=[\"name\"] , values=\"total_click\")\n",
    "df_master_pivot"
   ],
   "metadata": {
    "collapsed": false,
    "ExecuteTime": {
     "end_time": "2024-01-11T08:07:36.527427Z",
     "start_time": "2024-01-11T08:07:36.517945Z"
    }
   }
  },
  {
   "cell_type": "code",
   "execution_count": 30,
   "outputs": [
    {
     "data": {
      "text/plain": "user_id\n1     44.0\n2      NaN\n3     40.4\n4     10.0\n5     80.0\n6     49.5\n7     57.0\n8      NaN\n9     52.0\n10     NaN\n11     NaN\n12    31.0\n13     NaN\n14     NaN\n15    41.0\n16    32.0\n17    42.0\n18    14.0\n19    68.0\n20     NaN\nName: Beef and eggplant stew, dtype: float64"
     },
     "execution_count": 30,
     "metadata": {},
     "output_type": "execute_result"
    }
   ],
   "source": [
    "food_rating = df_master_pivot[\"Beef and eggplant stew\"]\n",
    "food_rating"
   ],
   "metadata": {
    "collapsed": false,
    "ExecuteTime": {
     "end_time": "2024-01-11T08:07:43.717436Z",
     "start_time": "2024-01-11T08:07:43.713745Z"
    }
   }
  },
  {
   "cell_type": "code",
   "execution_count": 18,
   "outputs": [
    {
     "data": {
      "text/plain": "name\nBeef and eggplant stew           1.000000\nBeef and gourd curry             0.696786\nBeef and gourd kebabs           -0.428675\nBeef and onion kebabs            0.052708\nBeef and onion stir-fry          0.283387\n                                   ...   \nTomato and onion quiche          0.396300\nTomato and onion salad          -0.952979\nTomato and onion tart            0.460495\nTomato and potato soup          -0.499743\nTomato and radish pasta sauce   -0.170732\nLength: 98, dtype: float64"
     },
     "execution_count": 18,
     "metadata": {},
     "output_type": "execute_result"
    }
   ],
   "source": [
    "corr_table = df_master_pivot.corrwith(food_rating)\n",
    "corr_table = corr_table.dropna()\n",
    "corr_table"
   ],
   "metadata": {
    "collapsed": false,
    "ExecuteTime": {
     "end_time": "2024-01-11T07:22:16.149927Z",
     "start_time": "2024-01-11T07:22:16.140067Z"
    }
   }
  },
  {
   "cell_type": "code",
   "execution_count": 19,
   "outputs": [
    {
     "data": {
      "text/plain": "name\nBeef and eggplant stew                     1.000000\nPotato and gourd hash                      1.000000\nGrilled chicken and potato salad           0.983053\nCarrot and gourd soup                      0.979219\nPurple cabbage coleslaw                    0.971733\nGourd and pork soup                        0.961420\nStuffed eggplant with beef and rice        0.939384\nGourd and purple cabbage stir-fry          0.780860\nBeef and radish stir-fry                   0.765261\nCarrot and onion stir-fry                  0.748523\nTomato and onion pasta sauce               0.725139\nBeef and gourd curry                       0.696786\nEggplant and radish stir-fry               0.675542\nTomato and carrot soup                     0.661602\nStuffed bell peppers with beef and rice    0.611048\nTomato and onion tart                      0.460495\nPotato and pork hash                       0.445889\nBeef and potato curry                      0.435483\nGourd and pork casserole                   0.428632\nPork and tomato stew                       0.419412\ndtype: float64"
     },
     "execution_count": 19,
     "metadata": {},
     "output_type": "execute_result"
    }
   ],
   "source": [
    "corr_table.sort_values(ascending=False).head(20)"
   ],
   "metadata": {
    "collapsed": false,
    "ExecuteTime": {
     "end_time": "2024-01-11T07:22:31.522105Z",
     "start_time": "2024-01-11T07:22:31.519114Z"
    }
   }
  },
  {
   "cell_type": "code",
   "execution_count": 22,
   "outputs": [
    {
     "name": "stderr",
     "output_type": "stream",
     "text": [
      "/var/folders/dk/8plcwpv53gg0_dg9fkx_rgr00000gn/T/ipykernel_61714/1456708464.py:1: FutureWarning: The provided callable <function mean at 0x1064ee9d0> is currently using SeriesGroupBy.mean. In a future version of pandas, the provided callable will be used directly. To keep current behavior pass the string \"mean\" instead.\n",
      "  foodStats = df_master.groupby('name').agg({'total_click':{np.size,np.mean}})\n"
     ]
    },
    {
     "data": {
      "text/plain": "                              total_click     \n                                     mean size\nname                                          \nBeef and eggplant stew          43.100000   20\nBeef and gourd curry            53.846154   13\nBeef and gourd kebabs           57.176471   34\nBeef and onion kebabs           50.000000   13\nBeef and onion stir-fry         54.812500   16\n...                                   ...  ...\nTomato and onion quiche         54.555556   18\nTomato and onion salad          36.000000    6\nTomato and onion tart           55.285714   14\nTomato and potato soup          54.333333   15\nTomato and radish pasta sauce   61.687500   16\n\n[98 rows x 2 columns]",
      "text/html": "<div>\n<style scoped>\n    .dataframe tbody tr th:only-of-type {\n        vertical-align: middle;\n    }\n\n    .dataframe tbody tr th {\n        vertical-align: top;\n    }\n\n    .dataframe thead tr th {\n        text-align: left;\n    }\n\n    .dataframe thead tr:last-of-type th {\n        text-align: right;\n    }\n</style>\n<table border=\"1\" class=\"dataframe\">\n  <thead>\n    <tr>\n      <th></th>\n      <th colspan=\"2\" halign=\"left\">total_click</th>\n    </tr>\n    <tr>\n      <th></th>\n      <th>mean</th>\n      <th>size</th>\n    </tr>\n    <tr>\n      <th>name</th>\n      <th></th>\n      <th></th>\n    </tr>\n  </thead>\n  <tbody>\n    <tr>\n      <th>Beef and eggplant stew</th>\n      <td>43.100000</td>\n      <td>20</td>\n    </tr>\n    <tr>\n      <th>Beef and gourd curry</th>\n      <td>53.846154</td>\n      <td>13</td>\n    </tr>\n    <tr>\n      <th>Beef and gourd kebabs</th>\n      <td>57.176471</td>\n      <td>34</td>\n    </tr>\n    <tr>\n      <th>Beef and onion kebabs</th>\n      <td>50.000000</td>\n      <td>13</td>\n    </tr>\n    <tr>\n      <th>Beef and onion stir-fry</th>\n      <td>54.812500</td>\n      <td>16</td>\n    </tr>\n    <tr>\n      <th>...</th>\n      <td>...</td>\n      <td>...</td>\n    </tr>\n    <tr>\n      <th>Tomato and onion quiche</th>\n      <td>54.555556</td>\n      <td>18</td>\n    </tr>\n    <tr>\n      <th>Tomato and onion salad</th>\n      <td>36.000000</td>\n      <td>6</td>\n    </tr>\n    <tr>\n      <th>Tomato and onion tart</th>\n      <td>55.285714</td>\n      <td>14</td>\n    </tr>\n    <tr>\n      <th>Tomato and potato soup</th>\n      <td>54.333333</td>\n      <td>15</td>\n    </tr>\n    <tr>\n      <th>Tomato and radish pasta sauce</th>\n      <td>61.687500</td>\n      <td>16</td>\n    </tr>\n  </tbody>\n</table>\n<p>98 rows × 2 columns</p>\n</div>"
     },
     "execution_count": 22,
     "metadata": {},
     "output_type": "execute_result"
    }
   ],
   "source": [
    "foodStats = df_master.groupby('name').agg({'total_click':{np.size,np.mean}})\n",
    "foodStats"
   ],
   "metadata": {
    "collapsed": false,
    "ExecuteTime": {
     "end_time": "2024-01-11T07:23:46.043399Z",
     "start_time": "2024-01-11T07:23:46.034155Z"
    }
   }
  },
  {
   "cell_type": "code",
   "execution_count": 24,
   "outputs": [
    {
     "data": {
      "text/plain": "                                        total_click     \n                                               mean size\nname                                                    \nTomato and radish pasta sauce             61.687500   16\nGrilled chicken with roasted vegetables   60.833333   12\nChicken and purple cabbage stir-fry       60.750000   12\nPotato and pork skillet                   60.500000   18\nPork and eggplant kabobs                  59.214286   14\nCarrot and purple cabbage coleslaw        58.833333   12\nRoasted pork with tomato and onion        58.687500   16\nStuffed eggplant with pork and rice       58.545455   11\nCarrot and gourd stir-fry                 58.333333   12\nRadish and spring onion omelette          58.272727   11\nPork and eggplant casserole               57.307692   13\nBeef and gourd kebabs                     57.176471   34\nPurple cabbage and carrot slaw            57.105263   19\nPotato and egg omelette                   57.000000   16\nStuffed bell peppers with beef and rice   56.526316   19",
      "text/html": "<div>\n<style scoped>\n    .dataframe tbody tr th:only-of-type {\n        vertical-align: middle;\n    }\n\n    .dataframe tbody tr th {\n        vertical-align: top;\n    }\n\n    .dataframe thead tr th {\n        text-align: left;\n    }\n\n    .dataframe thead tr:last-of-type th {\n        text-align: right;\n    }\n</style>\n<table border=\"1\" class=\"dataframe\">\n  <thead>\n    <tr>\n      <th></th>\n      <th colspan=\"2\" halign=\"left\">total_click</th>\n    </tr>\n    <tr>\n      <th></th>\n      <th>mean</th>\n      <th>size</th>\n    </tr>\n    <tr>\n      <th>name</th>\n      <th></th>\n      <th></th>\n    </tr>\n  </thead>\n  <tbody>\n    <tr>\n      <th>Tomato and radish pasta sauce</th>\n      <td>61.687500</td>\n      <td>16</td>\n    </tr>\n    <tr>\n      <th>Grilled chicken with roasted vegetables</th>\n      <td>60.833333</td>\n      <td>12</td>\n    </tr>\n    <tr>\n      <th>Chicken and purple cabbage stir-fry</th>\n      <td>60.750000</td>\n      <td>12</td>\n    </tr>\n    <tr>\n      <th>Potato and pork skillet</th>\n      <td>60.500000</td>\n      <td>18</td>\n    </tr>\n    <tr>\n      <th>Pork and eggplant kabobs</th>\n      <td>59.214286</td>\n      <td>14</td>\n    </tr>\n    <tr>\n      <th>Carrot and purple cabbage coleslaw</th>\n      <td>58.833333</td>\n      <td>12</td>\n    </tr>\n    <tr>\n      <th>Roasted pork with tomato and onion</th>\n      <td>58.687500</td>\n      <td>16</td>\n    </tr>\n    <tr>\n      <th>Stuffed eggplant with pork and rice</th>\n      <td>58.545455</td>\n      <td>11</td>\n    </tr>\n    <tr>\n      <th>Carrot and gourd stir-fry</th>\n      <td>58.333333</td>\n      <td>12</td>\n    </tr>\n    <tr>\n      <th>Radish and spring onion omelette</th>\n      <td>58.272727</td>\n      <td>11</td>\n    </tr>\n    <tr>\n      <th>Pork and eggplant casserole</th>\n      <td>57.307692</td>\n      <td>13</td>\n    </tr>\n    <tr>\n      <th>Beef and gourd kebabs</th>\n      <td>57.176471</td>\n      <td>34</td>\n    </tr>\n    <tr>\n      <th>Purple cabbage and carrot slaw</th>\n      <td>57.105263</td>\n      <td>19</td>\n    </tr>\n    <tr>\n      <th>Potato and egg omelette</th>\n      <td>57.000000</td>\n      <td>16</td>\n    </tr>\n    <tr>\n      <th>Stuffed bell peppers with beef and rice</th>\n      <td>56.526316</td>\n      <td>19</td>\n    </tr>\n  </tbody>\n</table>\n</div>"
     },
     "execution_count": 24,
     "metadata": {},
     "output_type": "execute_result"
    }
   ],
   "source": [
    "popular_food = foodStats[\"total_click\"][\"size\"] > 10\n",
    "foodStats[popular_food].sort_values([('total_click','mean')],ascending=False)[:15]"
   ],
   "metadata": {
    "collapsed": false,
    "ExecuteTime": {
     "end_time": "2024-01-11T07:34:23.833035Z",
     "start_time": "2024-01-11T07:34:23.819756Z"
    }
   }
  },
  {
   "cell_type": "code",
   "execution_count": 25,
   "outputs": [
    {
     "data": {
      "text/plain": "                                 total_click     \n                                        mean size\nname                                             \nBeef and gourd kebabs              57.176471   34\nChicken and gourd casserole        42.285714   28\nPork and potato hash               47.925926   27\nEggplant Parmesan                  37.192308   26\nChicken and radish stir-fry        45.826087   23\nCarrot and onion soup              40.695652   23\nBeef and potato curry              45.727273   22\nPork and eggplant curry            50.045455   22\nBeef and spring onion sandwiches   52.136364   22\nTomato and carrot soup             52.857143   21\nBeef and eggplant stew             43.100000   20\nCarrot and potato soup             47.900000   20\nEgg and radish sandwiches          47.600000   20\nChicken and potato skillet         54.210526   19\nPurple cabbage and carrot slaw     57.105263   19",
      "text/html": "<div>\n<style scoped>\n    .dataframe tbody tr th:only-of-type {\n        vertical-align: middle;\n    }\n\n    .dataframe tbody tr th {\n        vertical-align: top;\n    }\n\n    .dataframe thead tr th {\n        text-align: left;\n    }\n\n    .dataframe thead tr:last-of-type th {\n        text-align: right;\n    }\n</style>\n<table border=\"1\" class=\"dataframe\">\n  <thead>\n    <tr>\n      <th></th>\n      <th colspan=\"2\" halign=\"left\">total_click</th>\n    </tr>\n    <tr>\n      <th></th>\n      <th>mean</th>\n      <th>size</th>\n    </tr>\n    <tr>\n      <th>name</th>\n      <th></th>\n      <th></th>\n    </tr>\n  </thead>\n  <tbody>\n    <tr>\n      <th>Beef and gourd kebabs</th>\n      <td>57.176471</td>\n      <td>34</td>\n    </tr>\n    <tr>\n      <th>Chicken and gourd casserole</th>\n      <td>42.285714</td>\n      <td>28</td>\n    </tr>\n    <tr>\n      <th>Pork and potato hash</th>\n      <td>47.925926</td>\n      <td>27</td>\n    </tr>\n    <tr>\n      <th>Eggplant Parmesan</th>\n      <td>37.192308</td>\n      <td>26</td>\n    </tr>\n    <tr>\n      <th>Chicken and radish stir-fry</th>\n      <td>45.826087</td>\n      <td>23</td>\n    </tr>\n    <tr>\n      <th>Carrot and onion soup</th>\n      <td>40.695652</td>\n      <td>23</td>\n    </tr>\n    <tr>\n      <th>Beef and potato curry</th>\n      <td>45.727273</td>\n      <td>22</td>\n    </tr>\n    <tr>\n      <th>Pork and eggplant curry</th>\n      <td>50.045455</td>\n      <td>22</td>\n    </tr>\n    <tr>\n      <th>Beef and spring onion sandwiches</th>\n      <td>52.136364</td>\n      <td>22</td>\n    </tr>\n    <tr>\n      <th>Tomato and carrot soup</th>\n      <td>52.857143</td>\n      <td>21</td>\n    </tr>\n    <tr>\n      <th>Beef and eggplant stew</th>\n      <td>43.100000</td>\n      <td>20</td>\n    </tr>\n    <tr>\n      <th>Carrot and potato soup</th>\n      <td>47.900000</td>\n      <td>20</td>\n    </tr>\n    <tr>\n      <th>Egg and radish sandwiches</th>\n      <td>47.600000</td>\n      <td>20</td>\n    </tr>\n    <tr>\n      <th>Chicken and potato skillet</th>\n      <td>54.210526</td>\n      <td>19</td>\n    </tr>\n    <tr>\n      <th>Purple cabbage and carrot slaw</th>\n      <td>57.105263</td>\n      <td>19</td>\n    </tr>\n  </tbody>\n</table>\n</div>"
     },
     "execution_count": 25,
     "metadata": {},
     "output_type": "execute_result"
    }
   ],
   "source": [
    "foodStats[popular_food].sort_values([('total_click','size')],ascending=False)[:15]"
   ],
   "metadata": {
    "collapsed": false,
    "ExecuteTime": {
     "end_time": "2024-01-11T07:47:05.880106Z",
     "start_time": "2024-01-11T07:47:05.870939Z"
    }
   }
  },
  {
   "cell_type": "code",
   "execution_count": 26,
   "outputs": [
    {
     "data": {
      "text/plain": "                               similarity\nname                                     \nBeef and eggplant stew           1.000000\nBeef and gourd curry             0.696786\nBeef and gourd kebabs           -0.428675\nBeef and onion kebabs            0.052708\nBeef and onion stir-fry          0.283387\n...                                   ...\nTomato and onion quiche          0.396300\nTomato and onion salad          -0.952979\nTomato and onion tart            0.460495\nTomato and potato soup          -0.499743\nTomato and radish pasta sauce   -0.170732\n\n[98 rows x 1 columns]",
      "text/html": "<div>\n<style scoped>\n    .dataframe tbody tr th:only-of-type {\n        vertical-align: middle;\n    }\n\n    .dataframe tbody tr th {\n        vertical-align: top;\n    }\n\n    .dataframe thead th {\n        text-align: right;\n    }\n</style>\n<table border=\"1\" class=\"dataframe\">\n  <thead>\n    <tr style=\"text-align: right;\">\n      <th></th>\n      <th>similarity</th>\n    </tr>\n    <tr>\n      <th>name</th>\n      <th></th>\n    </tr>\n  </thead>\n  <tbody>\n    <tr>\n      <th>Beef and eggplant stew</th>\n      <td>1.000000</td>\n    </tr>\n    <tr>\n      <th>Beef and gourd curry</th>\n      <td>0.696786</td>\n    </tr>\n    <tr>\n      <th>Beef and gourd kebabs</th>\n      <td>-0.428675</td>\n    </tr>\n    <tr>\n      <th>Beef and onion kebabs</th>\n      <td>0.052708</td>\n    </tr>\n    <tr>\n      <th>Beef and onion stir-fry</th>\n      <td>0.283387</td>\n    </tr>\n    <tr>\n      <th>...</th>\n      <td>...</td>\n    </tr>\n    <tr>\n      <th>Tomato and onion quiche</th>\n      <td>0.396300</td>\n    </tr>\n    <tr>\n      <th>Tomato and onion salad</th>\n      <td>-0.952979</td>\n    </tr>\n    <tr>\n      <th>Tomato and onion tart</th>\n      <td>0.460495</td>\n    </tr>\n    <tr>\n      <th>Tomato and potato soup</th>\n      <td>-0.499743</td>\n    </tr>\n    <tr>\n      <th>Tomato and radish pasta sauce</th>\n      <td>-0.170732</td>\n    </tr>\n  </tbody>\n</table>\n<p>98 rows × 1 columns</p>\n</div>"
     },
     "execution_count": 26,
     "metadata": {},
     "output_type": "execute_result"
    }
   ],
   "source": [
    "df_similarity = pandas.DataFrame(corr_table,columns=['similarity'])\n",
    "df_similarity"
   ],
   "metadata": {
    "collapsed": false,
    "ExecuteTime": {
     "end_time": "2024-01-11T07:49:32.554483Z",
     "start_time": "2024-01-11T07:49:32.540885Z"
    }
   }
  },
  {
   "cell_type": "code",
   "execution_count": 32,
   "outputs": [
    {
     "data": {
      "text/plain": "                                    mean  size  similarity\nname                                                      \nBeef and eggplant stew         43.100000    20    1.000000\nBeef and gourd curry           53.846154    13    0.696786\nBeef and gourd kebabs          57.176471    34   -0.428675\nBeef and onion kebabs          50.000000    13    0.052708\nBeef and onion stir-fry        54.812500    16    0.283387\n...                                  ...   ...         ...\nTomato and onion pizza         47.062500    16    0.387489\nTomato and onion quiche        54.555556    18    0.396300\nTomato and onion tart          55.285714    14    0.460495\nTomato and potato soup         54.333333    15   -0.499743\nTomato and radish pasta sauce  61.687500    16   -0.170732\n\n[88 rows x 3 columns]",
      "text/html": "<div>\n<style scoped>\n    .dataframe tbody tr th:only-of-type {\n        vertical-align: middle;\n    }\n\n    .dataframe tbody tr th {\n        vertical-align: top;\n    }\n\n    .dataframe thead th {\n        text-align: right;\n    }\n</style>\n<table border=\"1\" class=\"dataframe\">\n  <thead>\n    <tr style=\"text-align: right;\">\n      <th></th>\n      <th>mean</th>\n      <th>size</th>\n      <th>similarity</th>\n    </tr>\n    <tr>\n      <th>name</th>\n      <th></th>\n      <th></th>\n      <th></th>\n    </tr>\n  </thead>\n  <tbody>\n    <tr>\n      <th>Beef and eggplant stew</th>\n      <td>43.100000</td>\n      <td>20</td>\n      <td>1.000000</td>\n    </tr>\n    <tr>\n      <th>Beef and gourd curry</th>\n      <td>53.846154</td>\n      <td>13</td>\n      <td>0.696786</td>\n    </tr>\n    <tr>\n      <th>Beef and gourd kebabs</th>\n      <td>57.176471</td>\n      <td>34</td>\n      <td>-0.428675</td>\n    </tr>\n    <tr>\n      <th>Beef and onion kebabs</th>\n      <td>50.000000</td>\n      <td>13</td>\n      <td>0.052708</td>\n    </tr>\n    <tr>\n      <th>Beef and onion stir-fry</th>\n      <td>54.812500</td>\n      <td>16</td>\n      <td>0.283387</td>\n    </tr>\n    <tr>\n      <th>...</th>\n      <td>...</td>\n      <td>...</td>\n      <td>...</td>\n    </tr>\n    <tr>\n      <th>Tomato and onion pizza</th>\n      <td>47.062500</td>\n      <td>16</td>\n      <td>0.387489</td>\n    </tr>\n    <tr>\n      <th>Tomato and onion quiche</th>\n      <td>54.555556</td>\n      <td>18</td>\n      <td>0.396300</td>\n    </tr>\n    <tr>\n      <th>Tomato and onion tart</th>\n      <td>55.285714</td>\n      <td>14</td>\n      <td>0.460495</td>\n    </tr>\n    <tr>\n      <th>Tomato and potato soup</th>\n      <td>54.333333</td>\n      <td>15</td>\n      <td>-0.499743</td>\n    </tr>\n    <tr>\n      <th>Tomato and radish pasta sauce</th>\n      <td>61.687500</td>\n      <td>16</td>\n      <td>-0.170732</td>\n    </tr>\n  </tbody>\n</table>\n<p>88 rows × 3 columns</p>\n</div>"
     },
     "execution_count": 32,
     "metadata": {},
     "output_type": "execute_result"
    }
   ],
   "source": [
    "df = foodStats[popular_food][\"total_click\"].join(df_similarity , on='name')\n",
    "df"
   ],
   "metadata": {
    "collapsed": false,
    "ExecuteTime": {
     "end_time": "2024-01-11T08:24:54.917838Z",
     "start_time": "2024-01-11T08:24:54.914542Z"
    }
   }
  },
  {
   "cell_type": "code",
   "execution_count": 35,
   "outputs": [],
   "source": [
    "df = df.drop(\"Beef and eggplant stew\")"
   ],
   "metadata": {
    "collapsed": false,
    "ExecuteTime": {
     "end_time": "2024-01-11T08:25:22.788132Z",
     "start_time": "2024-01-11T08:25:22.783381Z"
    }
   }
  },
  {
   "cell_type": "code",
   "execution_count": 36,
   "outputs": [
    {
     "data": {
      "text/plain": "                                                 mean  size  similarity\nname                                                                   \nPurple cabbage coleslaw                     34.666667    12    0.971733\nStuffed eggplant with beef and rice         48.727273    11    0.939384\nGourd and purple cabbage stir-fry           44.187500    16    0.780860\nBeef and radish stir-fry                    54.764706    17    0.765261\nCarrot and onion stir-fry                   40.272727    11    0.748523\n...                                               ...   ...         ...\nCarrot and eggplant curry                   51.909091    11   -0.662224\nStuffed bell peppers with chicken and rice  46.933333    15   -0.723286\nPurple cabbage and chicken wraps            53.428571    14   -0.753231\nPurple cabbage and carrot slaw              57.105263    19   -0.828124\nGrilled gourd with beef and purple cabbage  47.400000    15   -0.923556\n\n[87 rows x 3 columns]",
      "text/html": "<div>\n<style scoped>\n    .dataframe tbody tr th:only-of-type {\n        vertical-align: middle;\n    }\n\n    .dataframe tbody tr th {\n        vertical-align: top;\n    }\n\n    .dataframe thead th {\n        text-align: right;\n    }\n</style>\n<table border=\"1\" class=\"dataframe\">\n  <thead>\n    <tr style=\"text-align: right;\">\n      <th></th>\n      <th>mean</th>\n      <th>size</th>\n      <th>similarity</th>\n    </tr>\n    <tr>\n      <th>name</th>\n      <th></th>\n      <th></th>\n      <th></th>\n    </tr>\n  </thead>\n  <tbody>\n    <tr>\n      <th>Purple cabbage coleslaw</th>\n      <td>34.666667</td>\n      <td>12</td>\n      <td>0.971733</td>\n    </tr>\n    <tr>\n      <th>Stuffed eggplant with beef and rice</th>\n      <td>48.727273</td>\n      <td>11</td>\n      <td>0.939384</td>\n    </tr>\n    <tr>\n      <th>Gourd and purple cabbage stir-fry</th>\n      <td>44.187500</td>\n      <td>16</td>\n      <td>0.780860</td>\n    </tr>\n    <tr>\n      <th>Beef and radish stir-fry</th>\n      <td>54.764706</td>\n      <td>17</td>\n      <td>0.765261</td>\n    </tr>\n    <tr>\n      <th>Carrot and onion stir-fry</th>\n      <td>40.272727</td>\n      <td>11</td>\n      <td>0.748523</td>\n    </tr>\n    <tr>\n      <th>...</th>\n      <td>...</td>\n      <td>...</td>\n      <td>...</td>\n    </tr>\n    <tr>\n      <th>Carrot and eggplant curry</th>\n      <td>51.909091</td>\n      <td>11</td>\n      <td>-0.662224</td>\n    </tr>\n    <tr>\n      <th>Stuffed bell peppers with chicken and rice</th>\n      <td>46.933333</td>\n      <td>15</td>\n      <td>-0.723286</td>\n    </tr>\n    <tr>\n      <th>Purple cabbage and chicken wraps</th>\n      <td>53.428571</td>\n      <td>14</td>\n      <td>-0.753231</td>\n    </tr>\n    <tr>\n      <th>Purple cabbage and carrot slaw</th>\n      <td>57.105263</td>\n      <td>19</td>\n      <td>-0.828124</td>\n    </tr>\n    <tr>\n      <th>Grilled gourd with beef and purple cabbage</th>\n      <td>47.400000</td>\n      <td>15</td>\n      <td>-0.923556</td>\n    </tr>\n  </tbody>\n</table>\n<p>87 rows × 3 columns</p>\n</div>"
     },
     "execution_count": 36,
     "metadata": {},
     "output_type": "execute_result"
    }
   ],
   "source": [
    "df.sort_values(['similarity'] , ascending=False)"
   ],
   "metadata": {
    "collapsed": false,
    "ExecuteTime": {
     "end_time": "2024-01-11T08:25:26.396326Z",
     "start_time": "2024-01-11T08:25:26.394051Z"
    }
   }
  },
  {
   "cell_type": "code",
   "execution_count": 37,
   "outputs": [],
   "source": [
    "mongo_client.close()"
   ],
   "metadata": {
    "collapsed": false,
    "ExecuteTime": {
     "end_time": "2024-01-11T08:25:31.580155Z",
     "start_time": "2024-01-11T08:25:31.575480Z"
    }
   }
  },
  {
   "cell_type": "code",
   "execution_count": 38,
   "outputs": [
    {
     "data": {
      "text/plain": "user_id                          1          2     3           4     5   \\\nname                                                                     \nBeef and eggplant stew         44.0        NaN  40.4   10.000000  80.0   \nBeef and gourd curry           86.0  78.000000  42.5   48.000000   NaN   \nBeef and gourd kebabs          77.0  64.833333  47.6   54.333333  17.5   \nBeef and onion kebabs          22.0  52.000000   NaN         NaN  56.0   \nBeef and onion stir-fry         NaN  62.000000  23.0   78.000000  93.0   \n...                             ...        ...   ...         ...   ...   \nTomato and onion quiche        80.0  24.000000  56.0   12.000000  25.0   \nTomato and onion salad          5.0        NaN   NaN         NaN   NaN   \nTomato and onion tart          41.5  61.000000  78.0    6.000000   NaN   \nTomato and potato soup          1.0  56.000000   NaN   96.000000  36.0   \nTomato and radish pasta sauce   3.0  77.000000   NaN  100.000000  50.5   \n\nuser_id                               6     7     8     9     10    11    12  \\\nname                                                                           \nBeef and eggplant stew         49.500000  57.0   NaN  52.0   NaN   NaN  31.0   \nBeef and gourd curry                 NaN   NaN  60.0  61.0   NaN   NaN  30.0   \nBeef and gourd kebabs          65.000000   NaN  79.0   NaN  53.0  25.0  36.5   \nBeef and onion kebabs          76.000000   NaN   NaN  12.0  81.0  35.0  60.0   \nBeef and onion stir-fry        54.000000   NaN   NaN  56.0   NaN   2.0   NaN   \n...                                  ...   ...   ...   ...   ...   ...   ...   \nTomato and onion quiche        34.000000  83.0  86.0   NaN   NaN   NaN   NaN   \nTomato and onion salad               NaN   NaN   NaN   NaN  70.0   NaN  31.0   \nTomato and onion tart          92.000000   NaN  39.0  38.0   NaN  96.0  60.0   \nTomato and potato soup               NaN  73.0  53.0   NaN   NaN  68.0   NaN   \nTomato and radish pasta sauce  64.333333   NaN   NaN   NaN   NaN  55.0  78.0   \n\nuser_id                          13    14         15    16    17    18    19  \\\nname                                                                           \nBeef and eggplant stew          NaN   NaN  41.000000  32.0  42.0  14.0  68.0   \nBeef and gourd curry            NaN  34.0        NaN  30.0   NaN   NaN  98.0   \nBeef and gourd kebabs           NaN  83.0  62.000000   NaN   NaN   NaN   NaN   \nBeef and onion kebabs           3.0  79.0        NaN   NaN   NaN   NaN  46.0   \nBeef and onion stir-fry        64.0  59.5  60.000000   NaN   NaN   NaN  71.0   \n...                             ...   ...        ...   ...   ...   ...   ...   \nTomato and onion quiche        44.5  83.0  49.333333  38.0   NaN   NaN  91.0   \nTomato and onion salad          NaN   NaN        NaN  39.5   NaN   NaN   NaN   \nTomato and onion tart           NaN   NaN        NaN   NaN   NaN   NaN  49.5   \nTomato and potato soup         58.0   NaN  70.000000   NaN   NaN   NaN   NaN   \nTomato and radish pasta sauce  27.0   NaN        NaN   NaN   NaN  40.0  79.5   \n\nuser_id                          20  \nname                                 \nBeef and eggplant stew          NaN  \nBeef and gourd curry            NaN  \nBeef and gourd kebabs          79.0  \nBeef and onion kebabs           NaN  \nBeef and onion stir-fry        25.0  \n...                             ...  \nTomato and onion quiche        42.0  \nTomato and onion salad          NaN  \nTomato and onion tart           NaN  \nTomato and potato soup          1.0  \nTomato and radish pasta sauce   NaN  \n\n[98 rows x 20 columns]",
      "text/html": "<div>\n<style scoped>\n    .dataframe tbody tr th:only-of-type {\n        vertical-align: middle;\n    }\n\n    .dataframe tbody tr th {\n        vertical-align: top;\n    }\n\n    .dataframe thead th {\n        text-align: right;\n    }\n</style>\n<table border=\"1\" class=\"dataframe\">\n  <thead>\n    <tr style=\"text-align: right;\">\n      <th>user_id</th>\n      <th>1</th>\n      <th>2</th>\n      <th>3</th>\n      <th>4</th>\n      <th>5</th>\n      <th>6</th>\n      <th>7</th>\n      <th>8</th>\n      <th>9</th>\n      <th>10</th>\n      <th>11</th>\n      <th>12</th>\n      <th>13</th>\n      <th>14</th>\n      <th>15</th>\n      <th>16</th>\n      <th>17</th>\n      <th>18</th>\n      <th>19</th>\n      <th>20</th>\n    </tr>\n    <tr>\n      <th>name</th>\n      <th></th>\n      <th></th>\n      <th></th>\n      <th></th>\n      <th></th>\n      <th></th>\n      <th></th>\n      <th></th>\n      <th></th>\n      <th></th>\n      <th></th>\n      <th></th>\n      <th></th>\n      <th></th>\n      <th></th>\n      <th></th>\n      <th></th>\n      <th></th>\n      <th></th>\n      <th></th>\n    </tr>\n  </thead>\n  <tbody>\n    <tr>\n      <th>Beef and eggplant stew</th>\n      <td>44.0</td>\n      <td>NaN</td>\n      <td>40.4</td>\n      <td>10.000000</td>\n      <td>80.0</td>\n      <td>49.500000</td>\n      <td>57.0</td>\n      <td>NaN</td>\n      <td>52.0</td>\n      <td>NaN</td>\n      <td>NaN</td>\n      <td>31.0</td>\n      <td>NaN</td>\n      <td>NaN</td>\n      <td>41.000000</td>\n      <td>32.0</td>\n      <td>42.0</td>\n      <td>14.0</td>\n      <td>68.0</td>\n      <td>NaN</td>\n    </tr>\n    <tr>\n      <th>Beef and gourd curry</th>\n      <td>86.0</td>\n      <td>78.000000</td>\n      <td>42.5</td>\n      <td>48.000000</td>\n      <td>NaN</td>\n      <td>NaN</td>\n      <td>NaN</td>\n      <td>60.0</td>\n      <td>61.0</td>\n      <td>NaN</td>\n      <td>NaN</td>\n      <td>30.0</td>\n      <td>NaN</td>\n      <td>34.0</td>\n      <td>NaN</td>\n      <td>30.0</td>\n      <td>NaN</td>\n      <td>NaN</td>\n      <td>98.0</td>\n      <td>NaN</td>\n    </tr>\n    <tr>\n      <th>Beef and gourd kebabs</th>\n      <td>77.0</td>\n      <td>64.833333</td>\n      <td>47.6</td>\n      <td>54.333333</td>\n      <td>17.5</td>\n      <td>65.000000</td>\n      <td>NaN</td>\n      <td>79.0</td>\n      <td>NaN</td>\n      <td>53.0</td>\n      <td>25.0</td>\n      <td>36.5</td>\n      <td>NaN</td>\n      <td>83.0</td>\n      <td>62.000000</td>\n      <td>NaN</td>\n      <td>NaN</td>\n      <td>NaN</td>\n      <td>NaN</td>\n      <td>79.0</td>\n    </tr>\n    <tr>\n      <th>Beef and onion kebabs</th>\n      <td>22.0</td>\n      <td>52.000000</td>\n      <td>NaN</td>\n      <td>NaN</td>\n      <td>56.0</td>\n      <td>76.000000</td>\n      <td>NaN</td>\n      <td>NaN</td>\n      <td>12.0</td>\n      <td>81.0</td>\n      <td>35.0</td>\n      <td>60.0</td>\n      <td>3.0</td>\n      <td>79.0</td>\n      <td>NaN</td>\n      <td>NaN</td>\n      <td>NaN</td>\n      <td>NaN</td>\n      <td>46.0</td>\n      <td>NaN</td>\n    </tr>\n    <tr>\n      <th>Beef and onion stir-fry</th>\n      <td>NaN</td>\n      <td>62.000000</td>\n      <td>23.0</td>\n      <td>78.000000</td>\n      <td>93.0</td>\n      <td>54.000000</td>\n      <td>NaN</td>\n      <td>NaN</td>\n      <td>56.0</td>\n      <td>NaN</td>\n      <td>2.0</td>\n      <td>NaN</td>\n      <td>64.0</td>\n      <td>59.5</td>\n      <td>60.000000</td>\n      <td>NaN</td>\n      <td>NaN</td>\n      <td>NaN</td>\n      <td>71.0</td>\n      <td>25.0</td>\n    </tr>\n    <tr>\n      <th>...</th>\n      <td>...</td>\n      <td>...</td>\n      <td>...</td>\n      <td>...</td>\n      <td>...</td>\n      <td>...</td>\n      <td>...</td>\n      <td>...</td>\n      <td>...</td>\n      <td>...</td>\n      <td>...</td>\n      <td>...</td>\n      <td>...</td>\n      <td>...</td>\n      <td>...</td>\n      <td>...</td>\n      <td>...</td>\n      <td>...</td>\n      <td>...</td>\n      <td>...</td>\n    </tr>\n    <tr>\n      <th>Tomato and onion quiche</th>\n      <td>80.0</td>\n      <td>24.000000</td>\n      <td>56.0</td>\n      <td>12.000000</td>\n      <td>25.0</td>\n      <td>34.000000</td>\n      <td>83.0</td>\n      <td>86.0</td>\n      <td>NaN</td>\n      <td>NaN</td>\n      <td>NaN</td>\n      <td>NaN</td>\n      <td>44.5</td>\n      <td>83.0</td>\n      <td>49.333333</td>\n      <td>38.0</td>\n      <td>NaN</td>\n      <td>NaN</td>\n      <td>91.0</td>\n      <td>42.0</td>\n    </tr>\n    <tr>\n      <th>Tomato and onion salad</th>\n      <td>5.0</td>\n      <td>NaN</td>\n      <td>NaN</td>\n      <td>NaN</td>\n      <td>NaN</td>\n      <td>NaN</td>\n      <td>NaN</td>\n      <td>NaN</td>\n      <td>NaN</td>\n      <td>70.0</td>\n      <td>NaN</td>\n      <td>31.0</td>\n      <td>NaN</td>\n      <td>NaN</td>\n      <td>NaN</td>\n      <td>39.5</td>\n      <td>NaN</td>\n      <td>NaN</td>\n      <td>NaN</td>\n      <td>NaN</td>\n    </tr>\n    <tr>\n      <th>Tomato and onion tart</th>\n      <td>41.5</td>\n      <td>61.000000</td>\n      <td>78.0</td>\n      <td>6.000000</td>\n      <td>NaN</td>\n      <td>92.000000</td>\n      <td>NaN</td>\n      <td>39.0</td>\n      <td>38.0</td>\n      <td>NaN</td>\n      <td>96.0</td>\n      <td>60.0</td>\n      <td>NaN</td>\n      <td>NaN</td>\n      <td>NaN</td>\n      <td>NaN</td>\n      <td>NaN</td>\n      <td>NaN</td>\n      <td>49.5</td>\n      <td>NaN</td>\n    </tr>\n    <tr>\n      <th>Tomato and potato soup</th>\n      <td>1.0</td>\n      <td>56.000000</td>\n      <td>NaN</td>\n      <td>96.000000</td>\n      <td>36.0</td>\n      <td>NaN</td>\n      <td>73.0</td>\n      <td>53.0</td>\n      <td>NaN</td>\n      <td>NaN</td>\n      <td>68.0</td>\n      <td>NaN</td>\n      <td>58.0</td>\n      <td>NaN</td>\n      <td>70.000000</td>\n      <td>NaN</td>\n      <td>NaN</td>\n      <td>NaN</td>\n      <td>NaN</td>\n      <td>1.0</td>\n    </tr>\n    <tr>\n      <th>Tomato and radish pasta sauce</th>\n      <td>3.0</td>\n      <td>77.000000</td>\n      <td>NaN</td>\n      <td>100.000000</td>\n      <td>50.5</td>\n      <td>64.333333</td>\n      <td>NaN</td>\n      <td>NaN</td>\n      <td>NaN</td>\n      <td>NaN</td>\n      <td>55.0</td>\n      <td>78.0</td>\n      <td>27.0</td>\n      <td>NaN</td>\n      <td>NaN</td>\n      <td>NaN</td>\n      <td>NaN</td>\n      <td>40.0</td>\n      <td>79.5</td>\n      <td>NaN</td>\n    </tr>\n  </tbody>\n</table>\n<p>98 rows × 20 columns</p>\n</div>"
     },
     "execution_count": 38,
     "metadata": {},
     "output_type": "execute_result"
    }
   ],
   "source": [
    "df_master_user_pivot = df_master.pivot_table(index=[\"name\"] , columns=[\"user_id\"] , values=\"total_click\")\n",
    "df_master_user_pivot"
   ],
   "metadata": {
    "collapsed": false,
    "ExecuteTime": {
     "end_time": "2024-01-12T02:24:34.322191Z",
     "start_time": "2024-01-12T02:24:34.304446Z"
    }
   }
  },
  {
   "cell_type": "code",
   "execution_count": 40,
   "outputs": [
    {
     "data": {
      "text/plain": "name\nBeef and eggplant stew           44.0\nBeef and gourd curry             86.0\nBeef and gourd kebabs            77.0\nBeef and onion kebabs            22.0\nBeef and onion stir-fry           NaN\n                                 ... \nTomato and onion quiche          80.0\nTomato and onion salad            5.0\nTomato and onion tart            41.5\nTomato and potato soup            1.0\nTomato and radish pasta sauce     3.0\nName: 1, Length: 98, dtype: float64"
     },
     "execution_count": 40,
     "metadata": {},
     "output_type": "execute_result"
    }
   ],
   "source": [
    "df_user = df_master_user_pivot[1]\n",
    "df_user"
   ],
   "metadata": {
    "collapsed": false,
    "ExecuteTime": {
     "end_time": "2024-01-12T02:25:37.556232Z",
     "start_time": "2024-01-12T02:25:37.552680Z"
    }
   }
  },
  {
   "cell_type": "code",
   "execution_count": 42,
   "outputs": [
    {
     "data": {
      "text/plain": "user_id\n1     1.000000\n2    -0.313136\n3    -0.000275\n4    -0.168461\n5     0.021056\n6    -0.100583\n7     0.150134\n8     0.150410\n9    -0.189347\n10   -0.242674\n11   -0.290119\n12   -0.181156\n13   -0.156664\n14   -0.215627\n15   -0.358594\n16   -0.234299\n17    0.601987\n18    0.065241\n19    0.121981\n20    0.205241\ndtype: float64"
     },
     "execution_count": 42,
     "metadata": {},
     "output_type": "execute_result"
    }
   ],
   "source": [
    "df_user_corr = df_master_user_pivot.corrwith(df_user)\n",
    "df_user_corr = df_user_corr.dropna()\n",
    "df_user_corr"
   ],
   "metadata": {
    "collapsed": false,
    "ExecuteTime": {
     "end_time": "2024-01-12T02:27:20.276973Z",
     "start_time": "2024-01-12T02:27:20.271460Z"
    }
   }
  },
  {
   "cell_type": "code",
   "execution_count": 43,
   "outputs": [
    {
     "data": {
      "text/plain": "user_id\n1     1.000000\n17    0.601987\n20    0.205241\n8     0.150410\n7     0.150134\n19    0.121981\n18    0.065241\n5     0.021056\n3    -0.000275\n6    -0.100583\n13   -0.156664\n4    -0.168461\n12   -0.181156\n9    -0.189347\n14   -0.215627\n16   -0.234299\n10   -0.242674\n11   -0.290119\n2    -0.313136\n15   -0.358594\ndtype: float64"
     },
     "execution_count": 43,
     "metadata": {},
     "output_type": "execute_result"
    }
   ],
   "source": [
    "df_user_corr.sort_values(ascending=False)"
   ],
   "metadata": {
    "collapsed": false,
    "ExecuteTime": {
     "end_time": "2024-01-12T02:27:52.330630Z",
     "start_time": "2024-01-12T02:27:52.330381Z"
    }
   }
  }
 ],
 "metadata": {
  "kernelspec": {
   "display_name": "Python 3",
   "language": "python",
   "name": "python3"
  },
  "language_info": {
   "codemirror_mode": {
    "name": "ipython",
    "version": 2
   },
   "file_extension": ".py",
   "mimetype": "text/x-python",
   "name": "python",
   "nbconvert_exporter": "python",
   "pygments_lexer": "ipython2",
   "version": "2.7.6"
  }
 },
 "nbformat": 4,
 "nbformat_minor": 0
}
