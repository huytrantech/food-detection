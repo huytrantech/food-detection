{
 "cells": [
  {
   "cell_type": "code",
   "execution_count": 1,
   "metadata": {
    "collapsed": true,
    "ExecuteTime": {
     "end_time": "2024-01-10T09:05:19.803859Z",
     "start_time": "2024-01-10T09:05:18.287257Z"
    }
   },
   "outputs": [],
   "source": [
    "import provider\n",
    "import services\n",
    "import models"
   ]
  },
  {
   "cell_type": "code",
   "execution_count": 2,
   "outputs": [],
   "source": [
    "mongo_client = provider.init_client(username=\"mongo\", password=\"12345678\")\n",
    "food_service = services.FoodService(mongo_client=mongo_client)"
   ],
   "metadata": {
    "collapsed": false,
    "ExecuteTime": {
     "end_time": "2024-01-10T09:05:24.344031Z",
     "start_time": "2024-01-10T09:05:24.335479Z"
    }
   }
  },
  {
   "cell_type": "code",
   "execution_count": 3,
   "outputs": [],
   "source": [
    "request = models.FoodIngredientsRequest(ingredients=[\"chicken\",\"eggplant\"] , limit=10,paging=1)"
   ],
   "metadata": {
    "collapsed": false,
    "ExecuteTime": {
     "end_time": "2024-01-10T09:05:25.469762Z",
     "start_time": "2024-01-10T09:05:25.466722Z"
    }
   }
  },
  {
   "cell_type": "code",
   "execution_count": 5,
   "outputs": [
    {
     "data": {
      "text/plain": "<pymongo.cursor.Cursor at 0x153293460>"
     },
     "execution_count": 5,
     "metadata": {},
     "output_type": "execute_result"
    }
   ],
   "source": [
    "food = food_service.get_name_food_from_ingredients(request=request)\n",
    "food"
   ],
   "metadata": {
    "collapsed": false,
    "ExecuteTime": {
     "end_time": "2024-01-10T09:05:31.622865Z",
     "start_time": "2024-01-10T09:05:31.619709Z"
    }
   }
  },
  {
   "cell_type": "code",
   "execution_count": 6,
   "outputs": [
    {
     "name": "stdout",
     "output_type": "stream",
     "text": [
      "{'_id': ObjectId('659e26b24927ce6caf1b5be4'), 'name': 'Grilled chicken with eggplant and tomato', 'ingredients': ['chicken', 'eggplant']}\n",
      "{'_id': ObjectId('659e26b24927ce6caf1b5be5'), 'name': 'Eggplant Parmesan', 'ingredients': ['eggplant']}\n",
      "{'_id': ObjectId('659e26b24927ce6caf1b5bef'), 'name': 'Roasted eggplant with tomato sauce', 'ingredients': ['eggplant', 'tomato']}\n",
      "{'_id': ObjectId('659e26b24927ce6caf1b5c03'), 'name': 'Chicken and eggplant lasagna', 'ingredients': ['Chicken', 'eggplant']}\n",
      "{'_id': ObjectId('659e26b24927ce6caf1b5c08'), 'name': 'Grilled chicken with roasted vegetables', 'ingredients': ['chicken']}\n",
      "{'_id': ObjectId('659e26b24927ce6caf1b5c0c'), 'name': 'Pork and eggplant casserole', 'ingredients': ['Pork', 'eggplant']}\n",
      "{'_id': ObjectId('659e26b24927ce6caf1b5c11'), 'name': 'Stuffed eggplant with beef and rice', 'ingredients': ['eggplant', 'beef', 'rice']}\n",
      "{'_id': ObjectId('659e26b24927ce6caf1b5c15'), 'name': 'Grilled chicken and potato salad', 'ingredients': ['chicken', 'potato']}\n",
      "{'_id': ObjectId('659e26b24927ce6caf1b5c19'), 'name': 'Chicken and eggplant curry', 'ingredients': ['Chicken', 'eggplant']}\n",
      "{'_id': ObjectId('659e26b24927ce6caf1b5c1e'), 'name': 'Beef and eggplant stew', 'ingredients': ['Beef', 'eggplant']}\n"
     ]
    }
   ],
   "source": [
    "for element in food:\n",
    "    print(element)"
   ],
   "metadata": {
    "collapsed": false,
    "ExecuteTime": {
     "end_time": "2024-01-10T09:06:00.965043Z",
     "start_time": "2024-01-10T09:06:00.948108Z"
    }
   }
  }
 ],
 "metadata": {
  "kernelspec": {
   "display_name": "Python 3",
   "language": "python",
   "name": "python3"
  },
  "language_info": {
   "codemirror_mode": {
    "name": "ipython",
    "version": 2
   },
   "file_extension": ".py",
   "mimetype": "text/x-python",
   "name": "python",
   "nbconvert_exporter": "python",
   "pygments_lexer": "ipython2",
   "version": "2.7.6"
  }
 },
 "nbformat": 4,
 "nbformat_minor": 0
}
